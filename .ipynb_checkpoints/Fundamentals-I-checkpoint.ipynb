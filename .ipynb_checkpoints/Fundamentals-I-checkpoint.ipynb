{
 "cells": [
  {
   "cell_type": "code",
   "execution_count": 1,
   "id": "1b7235c1-31a8-4c3f-baf9-1119eaa2d0b7",
   "metadata": {},
   "outputs": [],
   "source": [
    "# Python-Programming Tutorial \n",
    "# By Sunil Prasath & Kavin\n",
    "# Fundamentals Part 1\n",
    "# Python Notebook Version\n",
    "\n",
    "import os\n",
    "import sys"
   ]
  },
  {
   "cell_type": "code",
   "execution_count": null,
   "id": "d535cb7e-fb96-44b3-8562-a1829e36f19d",
   "metadata": {},
   "outputs": [],
   "source": [
    "# Basic Syntax \n",
    "\n",
    "#Variables: They can store data of different types (implicitly assigned type but can be manipulated explicitly too)\n",
    "\n",
    "# Text Type: \tstr\n",
    "# Numeric Types: \tint, float, complex\n",
    "# Sequence Types: \tlist, tuple, range\n",
    "# Mapping Type: \tdict\n",
    "# Set Types: \tset, frozenset\n",
    "# Boolean Type: \tbool\n",
    "# Binary Types: \tbytes, bytearray, memoryview\n",
    "\n",
    "#Implicit Conversion within the variable declaration example\n",
    "\n",
    "x = \"Hello World\" \t#string\t\n",
    "x = 10 \t#int \n",
    "x = 10.5 \t#float \t\n",
    "x = 1j\t#complex \t\n",
    "x = [\"apple\", \"banana\", \"cherry\"] \t#list \t\n",
    "x = (\"apple\", \"banana\", \"cherry\") \t#tuple \t\n",
    "x = range(6) \t#range \t\n",
    "x = {\"name\" : \"John\", \"age\" : 36} \t#dict \t\n",
    "x = {\"apple\", \"banana\", \"cherry\"} \t#set\n",
    "\n",
    "\n",
    "\n",
    "\n"
   ]
  }
 ],
 "metadata": {
  "kernelspec": {
   "display_name": "Python 3 (ipykernel)",
   "language": "python",
   "name": "python3"
  },
  "language_info": {
   "codemirror_mode": {
    "name": "ipython",
    "version": 3
   },
   "file_extension": ".py",
   "mimetype": "text/x-python",
   "name": "python",
   "nbconvert_exporter": "python",
   "pygments_lexer": "ipython3",
   "version": "3.10.12"
  }
 },
 "nbformat": 4,
 "nbformat_minor": 5
}
