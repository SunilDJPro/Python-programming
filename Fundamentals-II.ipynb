{
 "cells": [
  {
   "cell_type": "markdown",
   "id": "6ce53ade-1540-4425-b426-f321a03e1f92",
   "metadata": {},
   "source": [
    "## Python Fundamentals - II\n",
    "\n",
    "### By Sunil"
   ]
  },
  {
   "cell_type": "code",
   "execution_count": 5,
   "id": "96f4f228-b57e-4156-8cd4-f9dae9ecac1e",
   "metadata": {},
   "outputs": [],
   "source": [
    "import os\n",
    "import sys"
   ]
  },
  {
   "cell_type": "markdown",
   "id": "269b1052-233a-4dc9-9a5e-4efe5d793a50",
   "metadata": {},
   "source": [
    "## Modules\n",
    "\n",
    "A module in Python is a file containing Python definitions and statements. The file name is the module name with the suffix \".py\" added. Modules allow you to organize your code logically and separate it into reusable parts."
   ]
  },
  {
   "cell_type": "code",
   "execution_count": 6,
   "id": "1f58c29c-9391-4d3e-a1cf-8c2884d723ee",
   "metadata": {},
   "outputs": [
    {
     "data": {
      "text/plain": [
       "(8, 6)"
      ]
     },
     "execution_count": 6,
     "metadata": {},
     "output_type": "execute_result"
    }
   ],
   "source": [
    "import basic_math\n",
    "\n",
    "result_add = basic_math.add(5, 3)\n",
    "result_subtract = basic_math.subtract(10, 4)\n",
    "\n",
    "result_add, result_subtract"
   ]
  },
  {
   "cell_type": "markdown",
   "id": "b85795bc-0253-44fa-9135-7fd40caa19f7",
   "metadata": {},
   "source": [
    "### Libraries:\n",
    "\n",
    "A library in Python is a collection of modules that provide additional functionality. Libraries can include modules, functions, and classes to help you perform various tasks without having to write the code from scratch."
   ]
  },
  {
   "cell_type": "code",
   "execution_count": 7,
   "id": "0e60f4c7-e6a4-4a1b-8b7f-64945aeb6372",
   "metadata": {},
   "outputs": [
    {
     "name": "stdout",
     "output_type": "stream",
     "text": [
      "76\n"
     ]
    }
   ],
   "source": [
    "#Example with random library\n",
    "\n",
    "import random\n",
    "\n",
    "random_number = random.randint(1, 100)\n",
    "print(random_number)"
   ]
  },
  {
   "cell_type": "markdown",
   "id": "d1edee6c-4aff-4a6e-8342-b12857a2fdd0",
   "metadata": {},
   "source": [
    "### Importing and Using Modules:\n",
    "\n",
    "You can import specific functions from a module using the from ... import ... syntax."
   ]
  },
  {
   "cell_type": "code",
   "execution_count": 8,
   "id": "7e930fae-d0ec-4d6a-817a-66fefdcae41d",
   "metadata": {},
   "outputs": [
    {
     "name": "stdout",
     "output_type": "stream",
     "text": [
      "11\n"
     ]
    }
   ],
   "source": [
    "from basic_math import add\n",
    "\n",
    "result = add(7, 4)\n",
    "print(result)"
   ]
  },
  {
   "cell_type": "code",
   "execution_count": 9,
   "id": "42e46060-e36c-4299-b51d-0ddece3a08ac",
   "metadata": {},
   "outputs": [
    {
     "name": "stdout",
     "output_type": "stream",
     "text": [
      "7\n"
     ]
    }
   ],
   "source": [
    "# Using Alias for the module\n",
    "import basic_math as math\n",
    "\n",
    "result = math.subtract(15, 8)\n",
    "print(result)"
   ]
  },
  {
   "cell_type": "markdown",
   "id": "ba59bda1-a6c2-4017-acae-18c5b18da79c",
   "metadata": {},
   "source": [
    "## Python Standard Library:\n",
    "\n",
    "The Python Standard Library is a collection of modules and packages that come with the Python installation. It covers a wide range of functionalities, from working with files to handling network communication.\n",
    "\n",
    "Example:\n",
    "Let's use the datetime module from the Python Standard Library to work with dates and times."
   ]
  },
  {
   "cell_type": "code",
   "execution_count": 11,
   "id": "342b34de-8b4e-4157-9618-edabf95b4401",
   "metadata": {},
   "outputs": [
    {
     "name": "stdout",
     "output_type": "stream",
     "text": [
      "2023-12-31 18:31:08.291003\n"
     ]
    }
   ],
   "source": [
    "from datetime import datetime\n",
    "\n",
    "current_time = datetime.now()\n",
    "print(current_time)"
   ]
  },
  {
   "cell_type": "markdown",
   "id": "a3bb5de6-b6f0-4136-a2e6-8606ba2e5906",
   "metadata": {},
   "source": [
    "#### Let's go through few more Python Standard Libraries for reference\n",
    "\n",
    "Collections:\n",
    "\n",
    "The collections module provides specialized data structures beyond the built-in types like lists and dictionaries.\n",
    "Example - Counter:\n",
    "The Counter class is used for counting hashable objects. It is a subclass of dict and can be very useful for counting occurrences of elements in a sequence."
   ]
  },
  {
   "cell_type": "code",
   "execution_count": 12,
   "id": "cf2a9b14-5991-4f7d-b4fa-129e665cd4a4",
   "metadata": {},
   "outputs": [
    {
     "name": "stdout",
     "output_type": "stream",
     "text": [
      "Counter({'apple': 3, 'banana': 2, 'orange': 1})\n"
     ]
    }
   ],
   "source": [
    "from collections import Counter\n",
    "\n",
    "word_list = ['apple', 'banana', 'apple', 'orange', 'banana', 'apple']\n",
    "word_counts = Counter(word_list)\n",
    "\n",
    "print(word_counts)"
   ]
  },
  {
   "cell_type": "markdown",
   "id": "405eb8e7-f672-4544-81d8-8f031bf79e41",
   "metadata": {},
   "source": [
    "#### Logging:\n",
    "\n",
    "The logging module provides flexible logging of messages."
   ]
  },
  {
   "cell_type": "code",
   "execution_count": 18,
   "id": "c730dce9-13d7-45f2-bc2a-255259308450",
   "metadata": {},
   "outputs": [
    {
     "name": "stderr",
     "output_type": "stream",
     "text": [
      "DEBUG:root:This is a debug message.\n",
      "INFO:root:This is an info message.\n",
      "WARNING:root:This is a warning message.\n",
      "ERROR:root:This is an error message.\n",
      "CRITICAL:root:This is a critical message.\n"
     ]
    }
   ],
   "source": [
    "import logging\n",
    "\n",
    "logging.basicConfig(level=logging.DEBUG)\n",
    "\n",
    "logging.debug(\"This is a debug message.\")\n",
    "logging.info(\"This is an info message.\")\n",
    "logging.warning(\"This is a warning message.\")\n",
    "logging.error(\"This is an error message.\")\n",
    "logging.critical(\"This is a critical message.\")"
   ]
  },
  {
   "cell_type": "markdown",
   "id": "a7c5f9a5-1e35-434f-abbf-4c2ac5593547",
   "metadata": {},
   "source": [
    "#### Pathlib:\n",
    "\n",
    "The pathlib module provides an object-oriented interface for working with filesystem paths."
   ]
  },
  {
   "cell_type": "code",
   "execution_count": 20,
   "id": "35228513-fd0a-4fa3-9726-167c2abebe81",
   "metadata": {},
   "outputs": [
    {
     "name": "stdout",
     "output_type": "stream",
     "text": [
      "Hello, World!. Helloo!\n"
     ]
    }
   ],
   "source": [
    "from pathlib import Path\n",
    "\n",
    "file_path = Path(\"text.txt\")\n",
    "\n",
    "with file_path.open() as file:\n",
    "    content = file.read()\n",
    "    print(content)"
   ]
  },
  {
   "cell_type": "markdown",
   "id": "4314e545-4da4-49f7-97bb-9f3ca2eb1526",
   "metadata": {},
   "source": [
    "#### CSV:\n",
    "\n",
    "The csv module provides functionality to work with Comma-Separated Values (CSV) files."
   ]
  },
  {
   "cell_type": "code",
   "execution_count": 22,
   "id": "ae95ed7d-ab37-4080-a665-5cde87bd6a41",
   "metadata": {},
   "outputs": [
    {
     "name": "stdout",
     "output_type": "stream",
     "text": [
      "﻿locationGroupIdentifier, location.locationIdentifier, locationGroupType, locationGroupName, sourceLink\n",
      "N-Reg, FAA - Washington, CUSTOMER, Northern region, http://lighttree.com/N-Reg\n",
      "N-Reg, QPWD - Ville de Québec, CUSTOMER, Northern region, http://lighttree.com/N-Reg\n",
      "N-Reg, MAHD - Boston, CUSTOMER, Northern region, http://lighttree.com/N-Reg\n",
      "N-Reg, NYDOT - New Rochelle, CUSTOMER, Northern region, http://lighttree.com/N-Reg\n",
      "N-US-Supp, Alumi-lux - Nashua, SUPPLIER, North US Suppliers, http://lighttree.com/N-US-Supp\n",
      "N-US-Supp, Amos - Philadelphia, SUPPLIER, North US Suppliers, http://lighttree.com/N-US-Supp\n",
      "N-US-Supp, Benchmark - Wheaton, SUPPLIER, North US Suppliers, http://lighttree.com/N-US-Supp\n",
      "N-US-Supp, Core - Saranac Lake, SUPPLIER, North US Suppliers, http://lighttree.com/N-US-Supp\n",
      "N-US-Supp, F & M - Columbus, SUPPLIER, North US Suppliers, http://lighttree.com/N-US-Supp\n",
      "N-US-Supp, Flexilux - Worcester, SUPPLIER, North US Suppliers, http://lighttree.com/N-US-Supp\n",
      "N-US-Supp, Glickman - Waterford, SUPPLIER, North US Suppliers, http://lighttree.com/N-US-Supp\n",
      "N-US-Supp, Howard - Vineyard Haven, SUPPLIER, North US Suppliers, http://lighttree.com/N-US-Supp\n",
      "N-US-Supp, Lex - Ocean Pines, SUPPLIER, North US Suppliers, http://lighttree.com/N-US-Supp\n",
      "N-US-Supp, McGrey - Mt Sterling, SUPPLIER, North US Suppliers, http://lighttree.com/N-US-Supp\n",
      "N-US-Supp, Mueller - Pittsburgh, SUPPLIER, North US Suppliers, http://lighttree.com/N-US-Supp\n",
      "N-US-Supp, Plastico - Glen Allen, SUPPLIER, North US Suppliers, http://lighttree.com/N-US-Supp\n",
      "N-US-Supp, Press - Albany, SUPPLIER, North US Suppliers, http://lighttree.com/N-US-Supp\n",
      "N-US-Supp, R.G.D. - Oxon Hill, SUPPLIER, North US Suppliers, http://lighttree.com/N-US-Supp\n",
      "N-US-Supp, Ripley - Trenton, SUPPLIER, North US Suppliers, http://lighttree.com/N-US-Supp\n",
      "N-US-Supp, RLP - Troy, SUPPLIER, North US Suppliers, http://lighttree.com/N-US-Supp\n",
      "N-US-Supp, RSQ - Narragansett, SUPPLIER, North US Suppliers, http://lighttree.com/N-US-Supp\n",
      "N-US-Supp, SilverOptics - Dover, SUPPLIER, North US Suppliers, http://lighttree.com/N-US-Supp\n",
      "N-US-Supp, Thermal - Cincinnati, SUPPLIER, North US Suppliers, http://lighttree.com/N-US-Supp\n",
      "N-US-Supp, Total Source - Waukesha, SUPPLIER, North US Suppliers, http://lighttree.com/N-US-Supp\n",
      "N-US-Supp, NatEx - Pawtucket, CARRIER, North US Suppliers, http://lighttree.com/N-US-Supp\n",
      "N-US-Supp, UXS - Madison, CARRIER, North US Suppliers, http://lighttree.com/N-US-Supp\n",
      "N-US-Supp, RPS - Philadelphia, CARRIER, North US Suppliers, http://lighttree.com/N-US-Supp\n",
      "S-Reg, KYTC - Lexington, CUSTOMER, Southern region, http://lighttree.com/S-Reg\n",
      "S-US-Supp, Autonomic - Morgantown, SUPPLIER, South US Suppliers, http://lighttree.com/S-US-Supp\n",
      "S-US-Supp, EM - Hemphill, SUPPLIER, South US Suppliers, http://lighttree.com/S-US-Supp\n",
      "S-US-Supp, Gaylor - Ocean Springs, SUPPLIER, South US Suppliers, http://lighttree.com/S-US-Supp\n",
      "S-US-Supp, Gemini - Dallas, SUPPLIER, South US Suppliers, http://lighttree.com/S-US-Supp\n",
      "S-US-Supp, Groulsh - Charleston, SUPPLIER, South US Suppliers, http://lighttree.com/S-US-Supp\n",
      "S-US-Supp, J&R - Montgomery, SUPPLIER, South US Suppliers, http://lighttree.com/S-US-Supp\n",
      "S-US-Supp, Litesource - San Antonio, SUPPLIER, South US Suppliers, http://lighttree.com/S-US-Supp\n",
      "S-US-Supp, Luminar - Palm Beach Gardens, SUPPLIER, South US Suppliers, http://lighttree.com/S-US-Supp\n",
      "S-US-Supp, Paltronix - Wilmington, SUPPLIER, South US Suppliers, http://lighttree.com/S-US-Supp\n",
      "S-US-Supp, SA - Loretto, SUPPLIER, South US Suppliers, http://lighttree.com/S-US-Supp\n",
      "S-US-Supp, Salco - Atlanta, SUPPLIER, South US Suppliers, http://lighttree.com/S-US-Supp\n",
      "S-US-Supp, Special - Southlake, SUPPLIER, South US Suppliers, http://lighttree.com/S-US-Supp\n",
      "S-US-Supp, AFX - El Paso, CARRIER, South US Suppliers, http://lighttree.com/S-US-Supp\n",
      "UK-Supp, LightLens - Ipswich , SUPPLIER, UK Suppliers, http://lighttree.com/UK-Supp\n",
      "W-Reg, COLA - Los Alamos, CUSTOMER, Western region, http://lighttree.com/W-Reg\n",
      "W-Reg, CALTRAN - San Diego, CUSTOMER, Western region, http://lighttree.com/W-Reg\n",
      "W-Reg, AHTD - Bentonville, CUSTOMER, Western region, http://lighttree.com/W-Reg\n",
      "W-US-Supp, Brewers - Phoenix, SUPPLIER, West US Suppliers, http://lighttree.com/W-US-Supp\n",
      "W-US-Supp, Corporal - Tulsa, SUPPLIER, West US Suppliers, http://lighttree.com/W-US-Supp\n",
      "W-US-Supp, Exclusive - Billings, SUPPLIER, West US Suppliers, http://lighttree.com/W-US-Supp\n",
      "W-US-Supp, Hardy - Salina, SUPPLIER, West US Suppliers, http://lighttree.com/W-US-Supp\n",
      "W-US-Supp, Holloway - Phoenix, SUPPLIER, West US Suppliers, http://lighttree.com/W-US-Supp\n",
      "W-US-Supp, Interalloy - Bozeman, SUPPLIER, West US Suppliers, http://lighttree.com/W-US-Supp\n",
      "W-US-Supp, Lorel - Sioux Falls, SUPPLIER, West US Suppliers, http://lighttree.com/W-US-Supp\n",
      "W-US-Supp, Plastilite - Scottsdale, SUPPLIER, West US Suppliers, http://lighttree.com/W-US-Supp\n",
      "W-US-Supp, Plexilux - Springfield, SUPPLIER, West US Suppliers, http://lighttree.com/W-US-Supp\n",
      "W-US-Supp, R&J - Vancouver, SUPPLIER, West US Suppliers, http://lighttree.com/W-US-Supp\n",
      "W-US-Supp, Robinson - Sacramento, SUPPLIER, West US Suppliers, http://lighttree.com/W-US-Supp\n",
      "W-US-Supp, Rylo - Spiro, SUPPLIER, West US Suppliers, http://lighttree.com/W-US-Supp\n",
      "W-US-Supp, Southwestern - Woodland, SUPPLIER, West US Suppliers, http://lighttree.com/W-US-Supp\n",
      "W-US-Supp, Venice - Artesia, SUPPLIER, West US Suppliers, http://lighttree.com/W-US-Supp\n",
      "W-US-Supp, Dunham - Centralia, CARRIER, West US Suppliers, http://lighttree.com/W-US-Supp\n",
      "W-US-Supp, TransOceanic - Slater, CARRIER, West US Suppliers, http://lighttree.com/W-US-Supp\n",
      "W-US-Supp, TranEx - Kansas City, CARRIER, West US Suppliers, http://lighttree.com/W-US-Supp\n"
     ]
    }
   ],
   "source": [
    "import csv\n",
    "\n",
    "with open('sample.csv', newline='') as csvfile:\n",
    "    csv_reader = csv.reader(csvfile)\n",
    "    for row in csv_reader:\n",
    "        print(', '.join(row))\n"
   ]
  },
  {
   "cell_type": "markdown",
   "id": "39c848f3-b30d-481e-999d-ff0224c75b3e",
   "metadata": {},
   "source": [
    "#### JSON:\n",
    "\n",
    "The json module is used for encoding and decoding JSON data."
   ]
  },
  {
   "cell_type": "code",
   "execution_count": 23,
   "id": "55864c49-6258-496d-99bc-88e194018953",
   "metadata": {},
   "outputs": [
    {
     "name": "stdout",
     "output_type": "stream",
     "text": [
      "{\"name\": \"John\", \"age\": 30, \"city\": \"New York\"}\n",
      "{'name': 'John', 'age': 30, 'city': 'New York'}\n"
     ]
    }
   ],
   "source": [
    "import json\n",
    "\n",
    "# Encoding JSON\n",
    "data = {'name': 'John', 'age': 30, 'city': 'New York'}\n",
    "json_data = json.dumps(data)\n",
    "print(json_data)\n",
    "\n",
    "# Decoding JSON\n",
    "decoded_data = json.loads(json_data)\n",
    "print(decoded_data)"
   ]
  },
  {
   "cell_type": "markdown",
   "id": "628661c4-7544-48fa-bfb0-56ca34658159",
   "metadata": {},
   "source": [
    "#### Regular Expressions (re):\n",
    "\n",
    "The re module provides regular expression matching operations."
   ]
  },
  {
   "cell_type": "code",
   "execution_count": 25,
   "id": "c5f4cd6e-b559-4b17-9b18-861b2281f02a",
   "metadata": {},
   "outputs": [
    {
     "name": "stdout",
     "output_type": "stream",
     "text": [
      "['support@example.com']\n"
     ]
    }
   ],
   "source": [
    "import re\n",
    "\n",
    "pattern = r'\\b[A-Za-z0-9._%+-]+@[A-Za-z0-9.-]+\\.[A-Z|a-z]{2,}\\b'\n",
    "text = \"Contact support@example.com for assistance.\"\n",
    "\n",
    "matches = re.findall(pattern, text)\n",
    "print(matches)"
   ]
  },
  {
   "cell_type": "markdown",
   "id": "f8ccda89-d0fa-4e25-b390-de77001e327d",
   "metadata": {},
   "source": [
    "#### XML Processing:\n",
    "\n",
    "The xml module provides support for processing XML."
   ]
  },
  {
   "cell_type": "code",
   "execution_count": 27,
   "id": "0c74fba2-6437-436f-93e4-1fb88fdbe76a",
   "metadata": {},
   "outputs": [
    {
     "name": "stdout",
     "output_type": "stream",
     "text": [
      "John\n"
     ]
    }
   ],
   "source": [
    "import xml.etree.ElementTree as ET\n",
    "\n",
    "xml_data = \"<person><name>John</name><age>30</age></person>\"\n",
    "root = ET.fromstring(xml_data)\n",
    "\n",
    "print(root.find('name').text)"
   ]
  },
  {
   "cell_type": "markdown",
   "id": "9a8f6b13-c70d-4741-9ade-da0b815680ed",
   "metadata": {},
   "source": [
    "#### HTML Processing:\n",
    "\n",
    "The html module provides functions to escape and unescape HTML entities."
   ]
  },
  {
   "cell_type": "code",
   "execution_count": 28,
   "id": "d94659d3-126f-43f2-bed7-97349d69725f",
   "metadata": {},
   "outputs": [
    {
     "name": "stdout",
     "output_type": "stream",
     "text": [
      "&lt;p&gt;This is a &lt;b&gt;bold&lt;/b&gt; statement.&lt;/p&gt;\n"
     ]
    }
   ],
   "source": [
    "import html\n",
    "\n",
    "html_string = '<p>This is a <b>bold</b> statement.</p>'\n",
    "escaped_html = html.escape(html_string)\n",
    "print(escaped_html)"
   ]
  },
  {
   "cell_type": "markdown",
   "id": "81e7294b-861d-410c-b828-539edc97ff9e",
   "metadata": {},
   "source": [
    "## Lambda Functions:\n",
    "\n",
    "Lambda functions, also known as anonymous functions, are concise functions defined without a formal name. They are often used for short-term operations where a full function definition is not necessary. Lambda functions are useful when a small function is needed for a short period and creating a full function using def would be overkill."
   ]
  },
  {
   "cell_type": "code",
   "execution_count": 30,
   "id": "9a1cfc39-b846-41a5-b3ef-9d49b203dbbe",
   "metadata": {},
   "outputs": [
    {
     "name": "stdout",
     "output_type": "stream",
     "text": [
      "25\n",
      "25\n"
     ]
    }
   ],
   "source": [
    "# Regular function\n",
    "def square(x):\n",
    "    return x ** 2\n",
    "\n",
    "# Equivalent lambda function\n",
    "square_lambda = lambda x: x ** 2\n",
    "\n",
    "print(square(5))    \n",
    "print(square_lambda(5))  \n"
   ]
  },
  {
   "cell_type": "markdown",
   "id": "a6135233-e1b7-49bf-a25e-7f50749f53d0",
   "metadata": {},
   "source": [
    "## Map Function:\n",
    "\n",
    "The map function applies a specified function to all the items in an input list (or any iterable) and returns an iterator that produces the results."
   ]
  },
  {
   "cell_type": "code",
   "execution_count": 31,
   "id": "820d26a1-794d-479e-9068-8a9a02c9229a",
   "metadata": {},
   "outputs": [
    {
     "name": "stdout",
     "output_type": "stream",
     "text": [
      "[1, 4, 9, 16, 25]\n"
     ]
    }
   ],
   "source": [
    "numbers = [1, 2, 3, 4, 5]\n",
    "squared_numbers = map(lambda x: x ** 2, numbers)\n",
    "\n",
    "print(list(squared_numbers))"
   ]
  },
  {
   "cell_type": "markdown",
   "id": "667bbf3a-59cd-4ea4-bfd8-26a2e19d6879",
   "metadata": {},
   "source": [
    "## Filter Function:\n",
    "\n",
    "The filter function filters elements from an iterable based on a specified function (or lambda function) that returns True or False.\n",
    "Here, the lambda function filters out only the even numbers from the numbers list using the filter function."
   ]
  },
  {
   "cell_type": "code",
   "execution_count": 32,
   "id": "f0a5d203-6f21-4712-b7c5-70d3091138ac",
   "metadata": {},
   "outputs": [
    {
     "name": "stdout",
     "output_type": "stream",
     "text": [
      "[2, 4, 6, 8]\n"
     ]
    }
   ],
   "source": [
    "numbers = [1, 2, 3, 4, 5, 6, 7, 8, 9]\n",
    "even_numbers = filter(lambda x: x % 2 == 0, numbers)\n",
    "\n",
    "print(list(even_numbers))"
   ]
  },
  {
   "cell_type": "markdown",
   "id": "1bc97276-9cf8-4594-bd00-1d9f26136204",
   "metadata": {},
   "source": [
    "## Reduce Function:\n",
    "\n",
    "The reduce function, which was part of the functools module in Python 2 and has moved to the functools module in Python 3, successively applies a binary function to the items in an iterable to reduce it to a single cumulative value. In this example, the lambda function multiplies each pair of elements in the numbers list, and reduce accumulates the results to find the overall product."
   ]
  },
  {
   "cell_type": "code",
   "execution_count": 33,
   "id": "f6975f7c-1db5-4529-acf7-53fce869558d",
   "metadata": {},
   "outputs": [
    {
     "name": "stdout",
     "output_type": "stream",
     "text": [
      "120\n"
     ]
    }
   ],
   "source": [
    "from functools import reduce\n",
    "\n",
    "numbers = [1, 2, 3, 4, 5]\n",
    "product = reduce(lambda x, y: x * y, numbers)\n",
    "\n",
    "print(product)"
   ]
  },
  {
   "cell_type": "markdown",
   "id": "ea96eaa0-2766-4226-ab5a-236d30978324",
   "metadata": {},
   "source": [
    "## String Manipulation and Formatting:"
   ]
  },
  {
   "cell_type": "code",
   "execution_count": 34,
   "id": "59da96bf-25b8-4ec9-9fa3-8feb2018e399",
   "metadata": {},
   "outputs": [
    {
     "name": "stdout",
     "output_type": "stream",
     "text": [
      "Hello, World\n"
     ]
    }
   ],
   "source": [
    "#Basic String Manipulation:\n",
    "\n",
    "# Concatenation\n",
    "str1 = \"Hello\"\n",
    "str2 = \"World\"\n",
    "result = str1 + \", \" + str2\n",
    "print(result)  "
   ]
  },
  {
   "cell_type": "code",
   "execution_count": 35,
   "id": "79321933-f57c-498e-b571-49609b1c5826",
   "metadata": {},
   "outputs": [
    {
     "name": "stdout",
     "output_type": "stream",
     "text": [
      "12\n"
     ]
    }
   ],
   "source": [
    "# String Length\n",
    "length = len(result)\n",
    "print(length)"
   ]
  },
  {
   "cell_type": "code",
   "execution_count": 36,
   "id": "e86797dd-09d4-4257-ab38-428e7f88ea85",
   "metadata": {},
   "outputs": [
    {
     "name": "stdout",
     "output_type": "stream",
     "text": [
      "H d\n"
     ]
    }
   ],
   "source": [
    "# Accessing Characters\n",
    "first_char = result[0]\n",
    "last_char = result[-1]\n",
    "print(first_char, last_char)"
   ]
  },
  {
   "cell_type": "markdown",
   "id": "2db345c3-becb-442b-8a35-412ebb33110b",
   "metadata": {},
   "source": [
    "#### String Formatting:"
   ]
  },
  {
   "cell_type": "code",
   "execution_count": 39,
   "id": "ee90a64f-f03b-43db-a10f-2260f91cb009",
   "metadata": {},
   "outputs": [
    {
     "name": "stdout",
     "output_type": "stream",
     "text": [
      "My name is Sunil and I'm 22 years old.\n"
     ]
    }
   ],
   "source": [
    "# String Interpolation\n",
    "name = \"Sunil\"\n",
    "age = 22\n",
    "formatted_string = f\"My name is {name} and I'm {age} years old.\"\n",
    "print(formatted_string)"
   ]
  },
  {
   "cell_type": "code",
   "execution_count": 40,
   "id": "544b7a8a-0f2a-47b6-ae51-040f3c3062b7",
   "metadata": {},
   "outputs": [
    {
     "name": "stdout",
     "output_type": "stream",
     "text": [
      "My name is Sunil and I'm 22 years old.\n"
     ]
    }
   ],
   "source": [
    "# Using the format() method\n",
    "formatted_string = \"My name is {} and I'm {} years old.\".format(name, age)\n",
    "print(formatted_string)"
   ]
  },
  {
   "cell_type": "markdown",
   "id": "a60b2c0c-026c-4615-9c83-1f7149c8ec08",
   "metadata": {},
   "source": [
    "## Regular Expressions:\n",
    "\n",
    "Regular expressions (regex) are powerful tools for pattern matching and manipulation of strings."
   ]
  },
  {
   "cell_type": "code",
   "execution_count": 41,
   "id": "c9ec8d3f-363d-410b-b81c-3d6b7e125055",
   "metadata": {},
   "outputs": [
    {
     "name": "stdout",
     "output_type": "stream",
     "text": [
      "SSN found: 123-45-6789\n",
      "['support@example.com', 'john.doe@example.org']\n"
     ]
    }
   ],
   "source": [
    "import re\n",
    "\n",
    "# Matching a specific pattern\n",
    "pattern = r\"\\d{3}-\\d{2}-\\d{4}\"  # Matches social security numbers\n",
    "text = \"My SSN is 123-45-6789.\"\n",
    "match = re.search(pattern, text)\n",
    "if match:\n",
    "    print(\"SSN found:\", match.group())\n",
    "\n",
    "# Finding all occurrences of a pattern\n",
    "email_pattern = r\"\\b[A-Za-z0-9._%+-]+@[A-Za-z0-9.-]+\\.[A-Z|a-z]{2,}\\b\"\n",
    "text = \"Contact support@example.com for assistance. Email john.doe@example.org for more info.\"\n",
    "matches = re.findall(email_pattern, text)\n",
    "print(matches)"
   ]
  },
  {
   "cell_type": "code",
   "execution_count": 42,
   "id": "437c8c8c-baf7-4985-8a67-fd7d82c080d1",
   "metadata": {},
   "outputs": [
    {
     "name": "stdout",
     "output_type": "stream",
     "text": [
      "Please contact support at info@example.com\n"
     ]
    }
   ],
   "source": [
    "#String Replacement with Regex:\n",
    "\n",
    "text = \"Please contact support at support@example.com\"\n",
    "pattern = r\"support@example\\.com\"\n",
    "replacement = \"info@example.com\"\n",
    "modified_text = re.sub(pattern, replacement, text)\n",
    "print(modified_text)"
   ]
  },
  {
   "cell_type": "markdown",
   "id": "3c489efe-05b4-4734-9c65-0ee617f2e5d8",
   "metadata": {},
   "source": [
    "## Using with Statements for File Handling:\n",
    "\n",
    "The with statement is used for better file handling. It automatically takes care of closing the file after executing the block of code."
   ]
  },
  {
   "cell_type": "code",
   "execution_count": 45,
   "id": "4fa7c833-eb42-4aa1-893d-b9c18ad6f9c9",
   "metadata": {},
   "outputs": [
    {
     "name": "stdout",
     "output_type": "stream",
     "text": [
      "Hello, World!. Helloo!\n"
     ]
    }
   ],
   "source": [
    "with open('text.txt', 'r') as file:\n",
    "    content = file.read()\n",
    "    print(content)"
   ]
  },
  {
   "cell_type": "code",
   "execution_count": 47,
   "id": "e08fc3fc-85db-474f-9763-1ecdb280f7d2",
   "metadata": {},
   "outputs": [],
   "source": [
    "# Copying a file using with statement\n",
    "source_file_path = 'test1.txt'\n",
    "destination_file_path = 'test2.txt'\n",
    "\n",
    "with open(source_file_path, 'rb') as source_file, open(destination_file_path, 'wb') as destination_file:\n",
    "    destination_file.write(source_file.read())"
   ]
  },
  {
   "cell_type": "markdown",
   "id": "bbd132c2-0b23-44db-9bf5-3a4874d5be09",
   "metadata": {},
   "source": [
    "## Working with Binary Files:\n",
    "\n",
    "The with statement ensures that resources (in this case, the file) are properly managed and released after the block of code is executed. It's particularly useful for file handling as it automatically takes care of opening and closing files, reducing the risk of resource leaks and making the code cleaner and more readable.\n"
   ]
  },
  {
   "cell_type": "code",
   "execution_count": 48,
   "id": "9141b9c1-d20a-434c-82ed-72ba2fa82970",
   "metadata": {},
   "outputs": [
    {
     "name": "stdout",
     "output_type": "stream",
     "text": [
      "b'Hello World'\n"
     ]
    }
   ],
   "source": [
    "#Reading Binary Files\n",
    "\n",
    "with open('binary_file.bin', 'rb') as file:\n",
    "    binary_data = file.read()\n",
    "    print(binary_data)"
   ]
  },
  {
   "cell_type": "code",
   "execution_count": 49,
   "id": "deca8418-c39e-4ef8-922a-2e08bf53c811",
   "metadata": {},
   "outputs": [],
   "source": [
    "#Writing to Binary Files\n",
    "\n",
    "binary_data = b'\\x48\\x65\\x6c\\x6c\\x6f\\x20\\x57\\x6f\\x72\\x6c\\x64' #HelloWorld\n",
    "with open('binary_file.bin', 'wb') as file:\n",
    "    file.write(binary_data)"
   ]
  },
  {
   "cell_type": "markdown",
   "id": "c308bcd0-0418-498d-91ed-a43a49462d73",
   "metadata": {},
   "source": [
    "##  Super() \n",
    "\n",
    "In Python, super() is a built-in function that is used to call a method from a parent class. It provides a way to invoke the method in a superclass from a subclass."
   ]
  },
  {
   "cell_type": "code",
   "execution_count": 57,
   "id": "21650299-b655-4c94-8750-c55132a02eb4",
   "metadata": {},
   "outputs": [
    {
     "name": "stdout",
     "output_type": "stream",
     "text": [
      "Buddy barks loudly. Also, Buddy makes a sound\n"
     ]
    }
   ],
   "source": [
    "class Animal:\n",
    "    def __init__(self, name):\n",
    "        self.name = name\n",
    "\n",
    "    def speak(self):\n",
    "        return f\"{self.name} makes a sound\"\n",
    "\n",
    "class Dog(Animal):\n",
    "    def __init__(self, name, breed):\n",
    "        # Call the __init__ method of the parent class using super()\n",
    "        super().__init__(name)\n",
    "        self.breed = breed\n",
    "\n",
    "    def speak(self):\n",
    "        # Call the speak method of the parent class using super()\n",
    "        parent_speak = super().speak()\n",
    "        return f\"{self.name} barks loudly. Also, {parent_speak}\"\n",
    "\n",
    "# Create an instance of the Dog class\n",
    "my_dog = Dog(\"Buddy\", \"Labrador\")\n",
    "result = my_dog.speak()\n",
    "\n",
    "print(result)"
   ]
  },
  {
   "cell_type": "markdown",
   "id": "321b5835-cf4b-46d0-b6c0-56aab38664b6",
   "metadata": {},
   "source": [
    "The Animal class has an __init__ method to initialize the name attribute and a speak method.     The Dog class is a subclass of Animal. It has its own __init__ method that initializes the name attribute using super().__init__(name), which calls the __init__ method of the Animal class.     The speak method in the Dog class calls the speak method of the Animal class using super().speak() and then adds additional information about barking.\n",
    "\n",
    "Using super() is particularly useful in multiple inheritance scenarios where a class inherits from more than one parent class. It ensures that the methods are called in the correct order according to the method resolution order (MRO). The MRO defines the order in which base classes are searched when looking for a method in a class hierarchy."
   ]
  },
  {
   "cell_type": "markdown",
   "id": "beb5cca0-1c4c-4f29-8ef7-1289c3101d8a",
   "metadata": {},
   "source": [
    "## Custom Exceptions:\n",
    "\n",
    "In Python, you can create custom exceptions by defining a new class that inherits from the built-in Exception class or one of its subclasses."
   ]
  },
  {
   "cell_type": "code",
   "execution_count": 62,
   "id": "5dae168b-18f3-48e2-8a0b-bf4204f9dd45",
   "metadata": {},
   "outputs": [
    {
     "name": "stdout",
     "output_type": "stream",
     "text": [
      "Caught an exception: This is a custom error message.\n"
     ]
    }
   ],
   "source": [
    "class CustomError(Exception):\n",
    "    def __init__(self, message=\"A custom error occurred.\"):\n",
    "        self.message = message\n",
    "        super().__init__(self.message)\n",
    "\n",
    "\n",
    "try:\n",
    "    raise CustomError(\"This is a custom error message.\")\n",
    "except CustomError as ce:\n",
    "    print(f\"Caught an exception: {ce}\")\n"
   ]
  },
  {
   "cell_type": "markdown",
   "id": "fdde2b30-d730-49f1-8d0e-cdbf09ecf8da",
   "metadata": {},
   "source": [
    "## Reraising Exceptions:\n",
    "\n",
    "Reraising exceptions refers to catching an exception and then raising it again to allow higher-level handlers to deal with it.\n",
    "\n",
    "In this example, example_function attempts to perform a division by zero, which raises a ZeroDivisionError. Inside the except block, the exception is caught, a message is printed, and then the raise statement is used to reraise the same exception.\n",
    "\n",
    "Reraising exceptions can be useful when you want to perform some specific actions in a lower-level handler but still want higher-level handlers to be aware of the original exception."
   ]
  },
  {
   "cell_type": "code",
   "execution_count": 63,
   "id": "8063b25e-d561-4dff-aa35-47f0b472c064",
   "metadata": {},
   "outputs": [
    {
     "name": "stdout",
     "output_type": "stream",
     "text": [
      "Caught an exception: division by zero\n",
      "Caught the reraised exception: division by zero\n"
     ]
    }
   ],
   "source": [
    "def example_function():\n",
    "    try:\n",
    "        # Some code that may raise an exception\n",
    "        result = 10 / 0\n",
    "    except ZeroDivisionError as zde:\n",
    "        print(f\"Caught an exception: {zde}\")\n",
    "        # Reraising the exception\n",
    "        raise\n",
    "\n",
    "try:\n",
    "    example_function()\n",
    "except ZeroDivisionError as zde:\n",
    "    print(f\"Caught the reraised exception: {zde}\")"
   ]
  },
  {
   "cell_type": "markdown",
   "id": "8aae2ab2-d6b5-4b52-9ddd-c3a9129ccbf5",
   "metadata": {},
   "source": [
    "## END OF FUNDAMENTALS PART 2 "
   ]
  }
 ],
 "metadata": {
  "kernelspec": {
   "display_name": "Python 3 (ipykernel)",
   "language": "python",
   "name": "python3"
  },
  "language_info": {
   "codemirror_mode": {
    "name": "ipython",
    "version": 3
   },
   "file_extension": ".py",
   "mimetype": "text/x-python",
   "name": "python",
   "nbconvert_exporter": "python",
   "pygments_lexer": "ipython3",
   "version": "3.10.12"
  }
 },
 "nbformat": 4,
 "nbformat_minor": 5
}
