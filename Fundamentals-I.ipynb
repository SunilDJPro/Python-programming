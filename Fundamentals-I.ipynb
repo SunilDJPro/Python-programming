{
 "cells": [
  {
   "cell_type": "markdown",
   "id": "401bceee",
   "metadata": {},
   "source": [
    "# Python-Programming Tutorial \n",
    "# By Sunil\n",
    "# Fundamentals Part 1\n",
    "# Python Notebook Version\n"
   ]
  },
  {
   "cell_type": "code",
   "execution_count": 1,
   "id": "1b7235c1-31a8-4c3f-baf9-1119eaa2d0b7",
   "metadata": {},
   "outputs": [],
   "source": [
    "import os\n",
    "import sys"
   ]
  },
  {
   "cell_type": "markdown",
   "id": "704099ea",
   "metadata": {},
   "source": [
    "# Basic Syntax \n",
    "\n",
    "### Variables: They can store data of different types (implicitly assigned type but can be manipulated explicitly too)"
   ]
  },
  {
   "cell_type": "code",
   "execution_count": 2,
   "id": "d535cb7e-fb96-44b3-8562-a1829e36f19d",
   "metadata": {},
   "outputs": [
    {
     "name": "stdout",
     "output_type": "stream",
     "text": [
      "------Data Types - Implicit assign ------\n",
      "Hello World\n",
      "<class 'str'>\n",
      "10\n",
      "<class 'int'>\n",
      "10.5\n",
      "<class 'float'>\n",
      "(2+1j)\n",
      "<class 'complex'>\n",
      "['roses', 'berry', 'apple']\n",
      "<class 'list'>\n",
      "('roses', 'berry', 'apple')\n",
      "<class 'tuple'>\n",
      "range(0, 8)\n",
      "<class 'range'>\n",
      "{'name': 'Helen', 'age': 18}\n",
      "<class 'dict'>\n",
      "{'roses', 'apple', 'berry'}\n",
      "<class 'set'>\n",
      "True\n",
      "<class 'bool'>\n",
      "b'Hello'\n",
      "<class 'bytes'>\n",
      "bytearray(b'\\x00\\x00\\x00\\x00\\x00')\n",
      "<class 'bytearray'>\n",
      "<memory at 0x7fe0c82afd00>\n",
      "<class 'memoryview'>\n",
      "None\n",
      "<class 'NoneType'>\n",
      "------Data Types - Explicit assign ------\n",
      "Hello World\n",
      "<class 'str'>\n",
      "10\n",
      "<class 'int'>\n",
      "10.5\n",
      "<class 'float'>\n",
      "(3+1j)\n",
      "<class 'complex'>\n",
      "['roses', 'berry', 'apple']\n",
      "<class 'list'>\n",
      "('roses', 'berry', 'apple')\n",
      "<class 'tuple'>\n",
      "range(0, 8)\n",
      "<class 'range'>\n",
      "{'name': 'Helen', 'age': 18}\n",
      "<class 'dict'>\n",
      "{'roses', 'apple', 'berry'}\n",
      "<class 'set'>\n",
      "frozenset({'roses', 'apple', 'berry'})\n",
      "<class 'frozenset'>\n",
      "True\n",
      "<class 'bool'>\n",
      "b'\\x00\\x00\\x00\\x00\\x00'\n",
      "<class 'bytes'>\n",
      "bytearray(b'\\x00\\x00\\x00\\x00\\x00')\n",
      "<class 'bytearray'>\n",
      "<memory at 0x7fe0c82afd00>\n",
      "<class 'memoryview'>\n"
     ]
    }
   ],
   "source": [
    "\n",
    "# Text Type: \tstr\n",
    "# Numeric Types: \tint, float, complex\n",
    "# Sequence Types: \tlist, tuple, range\n",
    "# Mapping Type: \tdict\n",
    "# Set Types: \tset, frozenset\n",
    "# Boolean Type: \tbool\n",
    "# Binary Types: \tbytes, bytearray, memoryview\n",
    "\n",
    "#Implicit Conversion within the variable declaration example\n",
    "print(\"------Data Types - Implicit assign ------\")\n",
    "x = \"Hello World\" \t#string\t\n",
    "print(x) \n",
    "print(type(x)) \n",
    "\n",
    "x = 10 \t#int \n",
    "print(x) \n",
    "print(type(x)) \n",
    "\n",
    "x = 10.5 \t#float \t\n",
    "print(x) \n",
    "print(type(x)) \n",
    "\n",
    "x = 2+1j\t#complex \n",
    "print(x) \n",
    "print(type(x)) \n",
    "\n",
    "x = [\"roses\", \"berry\", \"apple\"] \t#list \n",
    "print(x) \n",
    "print(type(x)) \n",
    "\n",
    "x = (\"roses\", \"berry\", \"apple\") \t#tuple \t\n",
    "print(x) \n",
    "print(type(x)) \n",
    "\n",
    "x = range(8) \t#range \tprint(x)\n",
    "print(x) \n",
    "print(type(x)) \n",
    "\n",
    "x = {\"name\" : \"Helen\", \"age\" : 18} \t#dict \n",
    "print(x) \n",
    "print(type(x)) \n",
    "\n",
    "x = {\"roses\", \"berry\", \"apple\"} \t#set\n",
    "print(x) \n",
    "print(type(x)) \n",
    "\n",
    "x = True #Boolean\n",
    "print(x) \n",
    "print(type(x)) \n",
    "\n",
    "x = b\"Hello\" \t#bytes\n",
    "print(x) \n",
    "print(type(x)) \n",
    "\n",
    "x = bytearray(5) \t#bytearray \t\n",
    "print(x) \n",
    "print(type(x)) \n",
    "\n",
    "x = memoryview(bytes(5)) \t#memoryview \t\n",
    "print(x) \n",
    "print(type(x)) \n",
    "\n",
    "x = None \t#NoneType\n",
    "print(x) \n",
    "print(type(x)) \n",
    "\n",
    "\n",
    "#If the variable should hold only specific data type, we can explicitly assign one in the following format.\n",
    "print(\"------Data Types - Explicit assign ------\")\n",
    "x = str(\"Hello World\") \t#str \n",
    "print(x) \n",
    "print(type(x)) \n",
    "\n",
    "x = int(10) \t#int \t\n",
    "print(x) \n",
    "print(type(x)) \n",
    "\n",
    "x = float(10.5) \t#float \t\n",
    "print(x) \n",
    "print(type(x)) \n",
    "\n",
    "x = complex(3+1j) \t#complex \t\n",
    "print(x) \n",
    "print(type(x)) \n",
    "\n",
    "x = list((\"roses\", \"berry\", \"apple\")) \t#list \t\n",
    "print(x) \n",
    "print(type(x)) \n",
    "\n",
    "x = tuple((\"roses\", \"berry\", \"apple\")) \t#tuple \t\n",
    "print(x) \n",
    "print(type(x)) \n",
    "\n",
    "x = range(8) \t#range \t\n",
    "print(x) \n",
    "print(type(x)) \n",
    "\n",
    "x = dict(name=\"Helen\", age=18) \t#dict \t\n",
    "print(x) \n",
    "print(type(x)) \n",
    "\n",
    "x = set((\"roses\", \"berry\", \"apple\")) \t#set \t\n",
    "print(x) \n",
    "print(type(x)) \n",
    "\n",
    "x = frozenset((\"roses\", \"berry\", \"apple\")) \t#frozenset \t\n",
    "print(x) \n",
    "print(type(x)) \n",
    "\n",
    "x = bool(5) \t#bool \t\n",
    "print(x) \n",
    "print(type(x)) \n",
    "\n",
    "x = bytes(5) \t#bytes \t\n",
    "print(x) \n",
    "print(type(x)) \n",
    "\n",
    "x = bytearray(5) \t#bytearray \t\n",
    "print(x) \n",
    "print(type(x)) \n",
    "\n",
    "x = memoryview(bytes(5)) \t#memoryview\n",
    "print(x) \n",
    "print(type(x)) "
   ]
  },
  {
   "cell_type": "markdown",
   "id": "9afca4f2",
   "metadata": {},
   "source": [
    "# Data input and output(print)"
   ]
  },
  {
   "cell_type": "code",
   "execution_count": 4,
   "id": "8e145727-fb71-4d82-aac2-f21e60d968e1",
   "metadata": {
    "scrolled": true
   },
   "outputs": [
    {
     "name": "stdout",
     "output_type": "stream",
     "text": [
      "What's your name?  Sunil\n"
     ]
    },
    {
     "name": "stdout",
     "output_type": "stream",
     "text": [
      "Sunil\n"
     ]
    },
    {
     "name": "stdout",
     "output_type": "stream",
     "text": [
      "What's your age:  22\n"
     ]
    },
    {
     "name": "stdout",
     "output_type": "stream",
     "text": [
      "22\n"
     ]
    }
   ],
   "source": [
    "# Data input and output(print)\n",
    "\n",
    "name = input(\"What's your name? \")\n",
    "#output (print)\n",
    "print(name)\n",
    "\n",
    "#Typecasting\n",
    "\n",
    "age = int(input(\"What's your age: \"))\n",
    "print(age)"
   ]
  },
  {
   "cell_type": "markdown",
   "id": "13c43d96",
   "metadata": {},
   "source": [
    "# Control Structures\n",
    "\n",
    "## Conditional Statements\n",
    "\n",
    "### Logical Conditions\n"
   ]
  },
  {
   "cell_type": "code",
   "execution_count": 5,
   "id": "36a0bda9-124a-42f3-97b3-a55fb1ef5db9",
   "metadata": {},
   "outputs": [
    {
     "name": "stdout",
     "output_type": "stream",
     "text": [
      "b is greater than a\n",
      "----elif----\n",
      "a and b are equal\n",
      "----else----\n",
      "a is greater than b\n",
      "Short Hand Technique\n",
      "B\n",
      "=\n"
     ]
    }
   ],
   "source": [
    "# Control Structures\n",
    "\n",
    "# Conditional Statements\n",
    "\n",
    "# Logical Conditions\n",
    "\n",
    "    # Equals: a == b\n",
    "    # Not Equals: a != b\n",
    "    # Less than: a < b\n",
    "    # Less than or equal to: a <= b\n",
    "    # Greater than: a > b\n",
    "    # Greater than or equal to: a >= b\n",
    "\n",
    "# if condition\n",
    "\n",
    "a = 10\n",
    "b = 15\n",
    "\n",
    "if b > a:\n",
    "    print(\"b is greater than a\") #Indentation MUST! \n",
    "\n",
    "print(\"----elif----\")\n",
    "\n",
    "a = 12\n",
    "b = 12\n",
    "\n",
    "if b > a:\n",
    "    print(\"b is greater than a\")\n",
    "elif a==b:\n",
    "    print(\"a and b are equal\")\n",
    "\n",
    "print(\"----else----\")\n",
    "\n",
    "a = 100\n",
    "b = 12\n",
    "\n",
    "if b > a:\n",
    "    print(\"b is greater than a\")\n",
    "elif a==b:\n",
    "    print(\"a and b are equal\")\n",
    "else:\n",
    "    print(\"a is greater than b\")\n",
    "\n",
    "\n",
    "print(\"Short Hand Technique\")\n",
    "\n",
    "a = 2\n",
    "b = 120\n",
    "print(\"A\") if a > b else print(\"B\")\n",
    "\n",
    "a = 330\n",
    "b = 330\n",
    "print(\"A\") if a > b else print(\"=\") if a == b else print(\"B\") \n",
    "\n",
    "\n"
   ]
  },
  {
   "cell_type": "markdown",
   "id": "03bacb1e",
   "metadata": {},
   "source": [
    "### Loop "
   ]
  },
  {
   "cell_type": "markdown",
   "id": "4f61c67e",
   "metadata": {},
   "source": [
    "What is a For Loop?\n",
    "\n",
    "A for loop is used to iterate over a sequence (that is either a list, tuple, dictionary, set, or string).\n",
    "\n",
    "Eg: for variable in sequence:"
   ]
  },
  {
   "cell_type": "code",
   "execution_count": 6,
   "id": "96115058",
   "metadata": {},
   "outputs": [
    {
     "name": "stdout",
     "output_type": "stream",
     "text": [
      "strawberry\n",
      "banana\n",
      "apple\n"
     ]
    }
   ],
   "source": [
    "# Iterating over a list \n",
    "fruits = [\"strawberry\", \"banana\", \"apple\"]\n",
    "for fruit in fruits:\n",
    "    print(fruit)"
   ]
  },
  {
   "cell_type": "code",
   "execution_count": 7,
   "id": "191faf5c",
   "metadata": {},
   "outputs": [
    {
     "name": "stdout",
     "output_type": "stream",
     "text": [
      "0\n",
      "1\n",
      "2\n",
      "3\n",
      "4\n",
      "5\n",
      "6\n",
      "7\n",
      "8\n",
      "9\n"
     ]
    }
   ],
   "source": [
    "#Using range() function\n",
    "for i in range(10): #(1, 10)\n",
    "    print(i)"
   ]
  },
  {
   "cell_type": "markdown",
   "id": "16336cbf",
   "metadata": {},
   "source": [
    "What is a While Loop?\n",
    "\n",
    "A while loop is used to repeatedly execute a block of code as long as the condition is true.\n",
    "\n",
    "Eg: while condition:"
   ]
  },
  {
   "cell_type": "code",
   "execution_count": 8,
   "id": "acd2a54d",
   "metadata": {},
   "outputs": [
    {
     "name": "stdout",
     "output_type": "stream",
     "text": [
      "1\n",
      "2\n",
      "3\n",
      "4\n",
      "5\n"
     ]
    }
   ],
   "source": [
    "num = 1\n",
    "while num <= 5:\n",
    "    print(num)\n",
    "    num += 1"
   ]
  },
  {
   "cell_type": "markdown",
   "id": "3c6b13ba",
   "metadata": {},
   "source": [
    "Loop Control Statements\n",
    "Break Statement\n",
    "\n",
    "The break statement is used to exit the loop prematurely. "
   ]
  },
  {
   "cell_type": "code",
   "execution_count": 9,
   "id": "aaef3978",
   "metadata": {},
   "outputs": [
    {
     "name": "stdout",
     "output_type": "stream",
     "text": [
      "apple\n"
     ]
    }
   ],
   "source": [
    "fruits = [\"apple\", \"banana\", \"cherry\"]\n",
    "for fruit in fruits:\n",
    "    if fruit == \"banana\":\n",
    "        break\n",
    "    print(fruit)"
   ]
  },
  {
   "cell_type": "markdown",
   "id": "9f7cff3b",
   "metadata": {},
   "source": [
    "Continue Statement\n",
    "\n",
    "The continue statement is used to skip the rest of the code inside the loop for the current iteration."
   ]
  },
  {
   "cell_type": "code",
   "execution_count": 10,
   "id": "08a8f6cb",
   "metadata": {},
   "outputs": [
    {
     "name": "stdout",
     "output_type": "stream",
     "text": [
      "apple\n",
      "cherry\n"
     ]
    }
   ],
   "source": [
    "#\n",
    "fruits = [\"apple\", \"banana\", \"cherry\"]\n",
    "for fruit in fruits:\n",
    "    if fruit == \"banana\":\n",
    "        continue\n",
    "    print(fruit)"
   ]
  },
  {
   "cell_type": "markdown",
   "id": "2c4231e8",
   "metadata": {},
   "source": [
    "# Lists\n",
    "## A list is a collection of items. It can hold items of different data types."
   ]
  },
  {
   "cell_type": "code",
   "execution_count": 11,
   "id": "cc06d723",
   "metadata": {},
   "outputs": [],
   "source": [
    "#Creating One\n",
    "my_list = [1, 2, \"three\", 4.0]"
   ]
  },
  {
   "cell_type": "code",
   "execution_count": 12,
   "id": "1713f9b2",
   "metadata": {},
   "outputs": [
    {
     "name": "stdout",
     "output_type": "stream",
     "text": [
      "1\n"
     ]
    }
   ],
   "source": [
    "#Elements acessing\n",
    "print(my_list[0])"
   ]
  },
  {
   "cell_type": "code",
   "execution_count": 13,
   "id": "0f597246",
   "metadata": {},
   "outputs": [
    {
     "name": "stdout",
     "output_type": "stream",
     "text": [
      "[2, 'three']\n"
     ]
    }
   ],
   "source": [
    "#Slicing\n",
    "print(my_list[1:3])"
   ]
  },
  {
   "cell_type": "code",
   "execution_count": 14,
   "id": "efeb9e39",
   "metadata": {},
   "outputs": [
    {
     "data": {
      "text/plain": [
       "[1, 2, 'four', 4.0]"
      ]
     },
     "execution_count": 14,
     "metadata": {},
     "output_type": "execute_result"
    }
   ],
   "source": [
    "#Modifying #Elements\n",
    "my_list[2] = \"four\"\n",
    "my_list"
   ]
  },
  {
   "cell_type": "markdown",
   "id": "581de901",
   "metadata": {},
   "source": [
    "# Tuples\n",
    "\n",
    "A tuple is similar to a list but is immutable, meaning its elements cannot be changed after creation.\n"
   ]
  },
  {
   "cell_type": "code",
   "execution_count": 15,
   "id": "58cd9f5a",
   "metadata": {},
   "outputs": [
    {
     "data": {
      "text/plain": [
       "(1, 2, 'three', 4.0)"
      ]
     },
     "execution_count": 15,
     "metadata": {},
     "output_type": "execute_result"
    }
   ],
   "source": [
    "my_tuple = (1, 2, \"three\", 4.0)\n",
    "my_tuple"
   ]
  },
  {
   "cell_type": "code",
   "execution_count": 16,
   "id": "3d54a148",
   "metadata": {},
   "outputs": [
    {
     "name": "stdout",
     "output_type": "stream",
     "text": [
      "1\n"
     ]
    }
   ],
   "source": [
    "print(my_tuple[0])"
   ]
  },
  {
   "cell_type": "code",
   "execution_count": 17,
   "id": "0f309680",
   "metadata": {},
   "outputs": [
    {
     "name": "stdout",
     "output_type": "stream",
     "text": [
      "(2, 'three')\n"
     ]
    }
   ],
   "source": [
    "print(my_tuple[1:3])"
   ]
  },
  {
   "cell_type": "markdown",
   "id": "f8230ef5",
   "metadata": {},
   "source": [
    "# Dictionaries\n",
    "\n",
    "A dictionary is an unordered collection of key-value pairs."
   ]
  },
  {
   "cell_type": "code",
   "execution_count": 18,
   "id": "855fe09a",
   "metadata": {},
   "outputs": [
    {
     "data": {
      "text/plain": [
       "{'name': 'John', 'age': 25, 'city': 'New York'}"
      ]
     },
     "execution_count": 18,
     "metadata": {},
     "output_type": "execute_result"
    }
   ],
   "source": [
    "#Creating a Dict\n",
    "my_dict = {\"name\": \"John\", \"age\": 25, \"city\": \"New York\"}\n",
    "my_dict"
   ]
  },
  {
   "cell_type": "code",
   "execution_count": 19,
   "id": "9bf17a87",
   "metadata": {},
   "outputs": [
    {
     "name": "stdout",
     "output_type": "stream",
     "text": [
      "John\n"
     ]
    }
   ],
   "source": [
    "print(my_dict[\"name\"])"
   ]
  },
  {
   "cell_type": "code",
   "execution_count": 20,
   "id": "77c2e76b",
   "metadata": {},
   "outputs": [
    {
     "data": {
      "text/plain": [
       "{'name': 'John', 'age': 26, 'city': 'New York'}"
      ]
     },
     "execution_count": 20,
     "metadata": {},
     "output_type": "execute_result"
    }
   ],
   "source": [
    "my_dict[\"age\"] = 26\n",
    "my_dict"
   ]
  },
  {
   "cell_type": "markdown",
   "id": "33b87ed7",
   "metadata": {},
   "source": [
    "### Basic Ops"
   ]
  },
  {
   "cell_type": "code",
   "execution_count": 21,
   "id": "15340827",
   "metadata": {},
   "outputs": [
    {
     "data": {
      "text/plain": [
       "(4, 4)"
      ]
     },
     "execution_count": 21,
     "metadata": {},
     "output_type": "execute_result"
    }
   ],
   "source": [
    "# find the length of the list and tuple\n",
    "\n",
    "length_l = len(my_list)\n",
    "length_t = len(my_tuple)\n",
    "length_t, length_l"
   ]
  },
  {
   "cell_type": "code",
   "execution_count": 22,
   "id": "2370a083",
   "metadata": {},
   "outputs": [],
   "source": [
    "# Add or apend items (elements)\n",
    "\n",
    "my_list.append(5)"
   ]
  },
  {
   "cell_type": "code",
   "execution_count": 23,
   "id": "e3d7ebd3",
   "metadata": {},
   "outputs": [],
   "source": [
    "# Remove stuffs from a list\n",
    "\n",
    "my_list.remove(\"four\")"
   ]
  },
  {
   "cell_type": "code",
   "execution_count": 24,
   "id": "b79cb7a6",
   "metadata": {},
   "outputs": [
    {
     "name": "stdout",
     "output_type": "stream",
     "text": [
      "Name exists in the dictionary.\n"
     ]
    }
   ],
   "source": [
    "# checking if a required key is available in a Dictionary\n",
    "\n",
    "if \"name\" in my_dict:\n",
    "    print(\"Name exists in the dictionary.\")"
   ]
  },
  {
   "cell_type": "markdown",
   "id": "8d6f7d15",
   "metadata": {},
   "source": [
    "# Function\n",
    "A function is a block of reusable code that performs a specific task."
   ]
  },
  {
   "cell_type": "code",
   "execution_count": 25,
   "id": "2f23dd42",
   "metadata": {},
   "outputs": [],
   "source": [
    "def greet():\n",
    "    print(\"Hello, welcome!\")"
   ]
  },
  {
   "cell_type": "code",
   "execution_count": 26,
   "id": "c71d1047",
   "metadata": {},
   "outputs": [
    {
     "name": "stdout",
     "output_type": "stream",
     "text": [
      "Hello, welcome!\n"
     ]
    }
   ],
   "source": [
    "# Calling the function\n",
    "greet()"
   ]
  },
  {
   "cell_type": "code",
   "execution_count": 37,
   "id": "69c55433",
   "metadata": {},
   "outputs": [],
   "source": [
    "# Function with Parameters\n",
    "\n",
    "def greet(name):\n",
    "    print(f\"Hello, {name}!\")"
   ]
  },
  {
   "cell_type": "code",
   "execution_count": 38,
   "id": "c3ad6572",
   "metadata": {},
   "outputs": [
    {
     "name": "stdout",
     "output_type": "stream",
     "text": [
      "Enter your Name: Alan\n"
     ]
    },
    {
     "name": "stdout",
     "output_type": "stream",
     "text": [
      "Hello, Alan!\n"
     ]
    }
   ],
   "source": [
    "name = input(\"Enter your Name:\")\n",
    "greet(name)"
   ]
  },
  {
   "cell_type": "code",
   "execution_count": 43,
   "id": "191c5bdf",
   "metadata": {},
   "outputs": [],
   "source": [
    "# Functions with return values\n",
    "\n",
    "def add(x, y):\n",
    "    return x + y\n"
   ]
  },
  {
   "cell_type": "code",
   "execution_count": 46,
   "id": "b99a20d5",
   "metadata": {},
   "outputs": [
    {
     "name": "stdout",
     "output_type": "stream",
     "text": [
      "Enter value A:  12\n",
      "Enter vlaue B:  23\n"
     ]
    },
    {
     "data": {
      "text/plain": [
       "35"
      ]
     },
     "execution_count": 46,
     "metadata": {},
     "output_type": "execute_result"
    }
   ],
   "source": [
    "a = int(input(\"Enter value A: \"))\n",
    "b = int(input(\"Enter vlaue B: \"))\n",
    "add(a, b)"
   ]
  },
  {
   "cell_type": "code",
   "execution_count": 47,
   "id": "d3a026d3",
   "metadata": {},
   "outputs": [],
   "source": [
    "#Default Parameters\n",
    "# You can assign default values to parameters. If a value is not provided, the default is used.\n",
    "\n",
    "def greet(name=\"Guest\"):\n",
    "    print(f\"Hello, {name}!\")"
   ]
  },
  {
   "cell_type": "code",
   "execution_count": 48,
   "id": "7dbea70d",
   "metadata": {},
   "outputs": [
    {
     "name": "stdout",
     "output_type": "stream",
     "text": [
      "Hello, Guest!\n",
      "Hello, Sunil!\n"
     ]
    },
    {
     "data": {
      "text/plain": [
       "(None, None)"
      ]
     },
     "execution_count": 48,
     "metadata": {},
     "output_type": "execute_result"
    }
   ],
   "source": [
    "greet(), greet(\"Sunil\")"
   ]
  },
  {
   "cell_type": "markdown",
   "id": "be927987",
   "metadata": {},
   "source": [
    "# Text Handling"
   ]
  },
  {
   "cell_type": "code",
   "execution_count": 57,
   "id": "6bd6f276",
   "metadata": {},
   "outputs": [
    {
     "name": "stdout",
     "output_type": "stream",
     "text": [
      "Hello, World!. Helloo!\n"
     ]
    }
   ],
   "source": [
    "# Opening a text file\n",
    "\n",
    "file_path = \"text.txt\"\n",
    "\n",
    "# Open file in read mode\n",
    "with open(file_path, \"r\") as file:\n",
    "    content = file.read()\n",
    "    print(content)"
   ]
  },
  {
   "cell_type": "code",
   "execution_count": 58,
   "id": "c4882020",
   "metadata": {},
   "outputs": [
    {
     "name": "stdout",
     "output_type": "stream",
     "text": [
      "Hello, World!. Helloo!\n"
     ]
    }
   ],
   "source": [
    "with open(file_path, \"r\") as file:\n",
    "    for line in file:\n",
    "        print(line)"
   ]
  },
  {
   "cell_type": "code",
   "execution_count": 59,
   "id": "e9178da6",
   "metadata": {},
   "outputs": [],
   "source": [
    "# Writing to text files\n",
    "\n",
    "file_path = \"text.txt\"\n",
    "\n",
    "# Open file in write mode\n",
    "with open(file_path, \"w\") as file:\n",
    "    file.write(\"Hello, World!. Helloo!\")"
   ]
  },
  {
   "cell_type": "code",
   "execution_count": 60,
   "id": "9894d89c",
   "metadata": {},
   "outputs": [],
   "source": [
    "# Reading and writing with Context Managers\n",
    "\n",
    "input_file = \"test1.txt\"\n",
    "output_file = \"test2.txt\"\n",
    "\n",
    "with open(input_file, \"r\") as infile, open(output_file, \"w\") as outfile:\n",
    "    for line in infile:\n",
    "        # Process the line\n",
    "        modified_line = line.upper()\n",
    "        # Write the modified line to the output file\n",
    "        outfile.write(modified_line)"
   ]
  },
  {
   "cell_type": "code",
   "execution_count": 65,
   "id": "fc124a8e",
   "metadata": {},
   "outputs": [
    {
     "name": "stdout",
     "output_type": "stream",
     "text": [
      "Hello, World!. Helloo!\n"
     ]
    }
   ],
   "source": [
    "# Handling Exceptions\n",
    "\n",
    "try:\n",
    "    with open(\"text.txt\", \"r\") as file:\n",
    "        content = file.read()\n",
    "        print(content)\n",
    "except FileNotFoundError:\n",
    "    print(\"File not found.\")"
   ]
  },
  {
   "cell_type": "markdown",
   "id": "7883e2ca",
   "metadata": {},
   "source": [
    "# Object Oriented Programming"
   ]
  },
  {
   "cell_type": "markdown",
   "id": "3c809662",
   "metadata": {},
   "source": [
    "## What is a Class?\n",
    "\n",
    " A class is a blueprint for creating objects. It defines a data structure and behavior."
   ]
  },
  {
   "cell_type": "code",
   "execution_count": 80,
   "id": "d328eb68",
   "metadata": {},
   "outputs": [],
   "source": [
    "class Dog:\n",
    "    def __init__(self, name, age):\n",
    "        print(\"Woof!\")\n",
    "        self.name = name\n",
    "        self.age = age\n",
    "\n",
    "    def bark(self):\n",
    "        print(\"Woofeeeee!\")"
   ]
  },
  {
   "cell_type": "code",
   "execution_count": 81,
   "id": "4cd6aef0",
   "metadata": {},
   "outputs": [
    {
     "name": "stdout",
     "output_type": "stream",
     "text": [
      "Woof!\n",
      "Woof!\n"
     ]
    }
   ],
   "source": [
    "dog1 = Dog(\"Buddy\", 3)\n",
    "dog2 = Dog(\"Charlie\", 5)"
   ]
  },
  {
   "cell_type": "code",
   "execution_count": 82,
   "id": "f3ff7438",
   "metadata": {},
   "outputs": [
    {
     "name": "stdout",
     "output_type": "stream",
     "text": [
      "Buddy\n",
      "3\n",
      "Charlie\n",
      "5\n"
     ]
    }
   ],
   "source": [
    "# Attributes and Methods (Functions)\n",
    "\n",
    "print(dog1.name) \n",
    "print(dog1.age)  \n",
    "\n",
    "print(dog2.name) \n",
    "print(dog2.age)\n"
   ]
  },
  {
   "cell_type": "code",
   "execution_count": 85,
   "id": "cd7caea7",
   "metadata": {},
   "outputs": [
    {
     "name": "stdout",
     "output_type": "stream",
     "text": [
      "Woofeeeee!\n"
     ]
    }
   ],
   "source": [
    "dog1.bark()  "
   ]
  },
  {
   "cell_type": "code",
   "execution_count": 86,
   "id": "7c1c1f43",
   "metadata": {},
   "outputs": [
    {
     "name": "stdout",
     "output_type": "stream",
     "text": [
      "Woofeeeee!\n"
     ]
    }
   ],
   "source": [
    "dog2.bark()"
   ]
  },
  {
   "cell_type": "markdown",
   "id": "85deb415",
   "metadata": {},
   "source": [
    "## Constructor and Self\n",
    "\n",
    "#### Constructor (__init__):\n",
    "\n",
    "The __init__ method is called when an object is created. It initializes the object's attributes.\n",
    "\n",
    "#### Self:\n",
    "\n",
    "self represents the instance of the class. It is a convention and can be named differently."
   ]
  },
  {
   "cell_type": "code",
   "execution_count": 87,
   "id": "1b1cbd7d",
   "metadata": {},
   "outputs": [],
   "source": [
    "class Car:\n",
    "    def __init__(self, make, model, year):\n",
    "        self.make = make\n",
    "        self.model = model\n",
    "        self.year = year"
   ]
  },
  {
   "cell_type": "markdown",
   "id": "12483edf",
   "metadata": {},
   "source": [
    "### Inheritance\n",
    "\n",
    "#### What is Inheritance?\n",
    "\n",
    "Inheritance allows a class to inherit the properties and methods of another class."
   ]
  },
  {
   "cell_type": "code",
   "execution_count": 47,
   "id": "0c1284cf",
   "metadata": {},
   "outputs": [],
   "source": [
    "class Animal:\n",
    "    def __init__(self, species):\n",
    "        self.species = species\n",
    "\n",
    "class Dog(Animal):\n",
    "    def __init__(self, name, age):\n",
    "        super().__init__(\"Canine\")\n",
    "        self.name = name\n",
    "        self.age = age\n",
    "    "
   ]
  },
  {
   "cell_type": "markdown",
   "id": "427d2906",
   "metadata": {},
   "source": [
    "### _____________________________________________________________________________________________"
   ]
  }
 ],
 "metadata": {
  "kernelspec": {
   "display_name": "Python 3 (ipykernel)",
   "language": "python",
   "name": "python3"
  },
  "language_info": {
   "codemirror_mode": {
    "name": "ipython",
    "version": 3
   },
   "file_extension": ".py",
   "mimetype": "text/x-python",
   "name": "python",
   "nbconvert_exporter": "python",
   "pygments_lexer": "ipython3",
   "version": "3.10.12"
  }
 },
 "nbformat": 4,
 "nbformat_minor": 5
}
